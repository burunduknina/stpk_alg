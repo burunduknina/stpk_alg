{
 "cells": [
  {
   "cell_type": "code",
   "execution_count": 1,
   "id": "psychological-petroleum",
   "metadata": {},
   "outputs": [],
   "source": [
    "def gcd(a, b):\n",
    "    assert a >= 0\n",
    "    assert b >= 0\n",
    "    while a > 0 and b > 0:\n",
    "        a, b = max(a,b) % min(a,b), min(a,b)\n",
    "    return max(a, b)"
   ]
  },
  {
   "cell_type": "code",
   "execution_count": 3,
   "id": "seven-remove",
   "metadata": {},
   "outputs": [
    {
     "data": {
      "text/plain": [
       "1"
      ]
     },
     "execution_count": 3,
     "metadata": {},
     "output_type": "execute_result"
    }
   ],
   "source": [
    "gcd(3, 25)"
   ]
  },
  {
   "cell_type": "code",
   "execution_count": 4,
   "id": "awful-enough",
   "metadata": {},
   "outputs": [],
   "source": [
    "import random"
   ]
  },
  {
   "cell_type": "code",
   "execution_count": 5,
   "id": "hollow-treasure",
   "metadata": {},
   "outputs": [],
   "source": [
    "def test(gcd, n_iter=100):\n",
    "    for i in range(n_iter):\n",
    "        c = random.randint(0, 1024)\n",
    "        a = c * random.randint(0, 128)\n",
    "        b = c * random.randint(0, 128)\n",
    "        assert gcd(a, a) == gcd(a, 0) == a\n",
    "        assert gcd(b, b) == gcd(b, 0) == b\n",
    "        assert gcd(a, 1) == gcd(b, 1) == 1\n",
    "        d = gcd(a, b)\n",
    "        assert a % d == b % d == 0"
   ]
  },
  {
   "cell_type": "code",
   "execution_count": 13,
   "id": "determined-newfoundland",
   "metadata": {},
   "outputs": [],
   "source": [
    "def gcd1(a, b):\n",
    "    assert a >= 0 and b >= 0\n",
    "    for d in reversed(range(max(a, b) + 1)):\n",
    "        if d == 0 or a % d == b % d == 0:\n",
    "            return d"
   ]
  },
  {
   "cell_type": "code",
   "execution_count": 14,
   "id": "polished-frank",
   "metadata": {},
   "outputs": [
    {
     "data": {
      "text/plain": [
       "1"
      ]
     },
     "execution_count": 14,
     "metadata": {},
     "output_type": "execute_result"
    }
   ],
   "source": [
    "gcd1(8, 3)"
   ]
  },
  {
   "cell_type": "code",
   "execution_count": 15,
   "id": "numerical-ministry",
   "metadata": {},
   "outputs": [
    {
     "data": {
      "text/plain": [
       "8"
      ]
     },
     "execution_count": 15,
     "metadata": {},
     "output_type": "execute_result"
    }
   ],
   "source": [
    "gcd1(8, 0)"
   ]
  },
  {
   "cell_type": "code",
   "execution_count": 16,
   "id": "simple-jersey",
   "metadata": {},
   "outputs": [
    {
     "data": {
      "text/plain": [
       "0"
      ]
     },
     "execution_count": 16,
     "metadata": {},
     "output_type": "execute_result"
    }
   ],
   "source": [
    "gcd1(0, 0)"
   ]
  },
  {
   "cell_type": "code",
   "execution_count": 17,
   "id": "native-ocean",
   "metadata": {},
   "outputs": [],
   "source": [
    "test(gcd1)"
   ]
  },
  {
   "cell_type": "code",
   "execution_count": 20,
   "id": "decreased-things",
   "metadata": {},
   "outputs": [],
   "source": [
    "def gcd2(a, b):\n",
    "    assert a >= 0 and b >= 0\n",
    "    while a and b:\n",
    "        if a >= b:\n",
    "            a %= b\n",
    "        else:\n",
    "            b %= a\n",
    "    return max(a, b)"
   ]
  },
  {
   "cell_type": "code",
   "execution_count": 21,
   "id": "acoustic-relief",
   "metadata": {},
   "outputs": [],
   "source": [
    "test(gcd2)"
   ]
  },
  {
   "cell_type": "code",
   "execution_count": 22,
   "id": "crucial-folder",
   "metadata": {},
   "outputs": [],
   "source": [
    "def gcd3(a, b):\n",
    "    assert a >= 0 and b >= 0\n",
    "    if a == 0 or b == 0:\n",
    "        return max(a, b)\n",
    "    elif a >= b:\n",
    "        return gcd3(a % b, b)\n",
    "    else:\n",
    "        return gcd3(a, b % a)"
   ]
  },
  {
   "cell_type": "code",
   "execution_count": 23,
   "id": "hired-heater",
   "metadata": {},
   "outputs": [],
   "source": [
    "test(gcd3)"
   ]
  },
  {
   "cell_type": "code",
   "execution_count": 25,
   "id": "quantitative-reducing",
   "metadata": {},
   "outputs": [],
   "source": [
    "def gcd4(a, b):\n",
    "    assert a >= 0 and b >= 0\n",
    "    if a == 0 or b == 0:\n",
    "        return max(a, b)\n",
    "    return gcd4(b % a, a)   "
   ]
  },
  {
   "cell_type": "code",
   "execution_count": 27,
   "id": "celtic-statistics",
   "metadata": {},
   "outputs": [],
   "source": [
    "test(gcd4)"
   ]
  },
  {
   "cell_type": "code",
   "execution_count": null,
   "id": "liable-tyler",
   "metadata": {},
   "outputs": [],
   "source": []
  }
 ],
 "metadata": {
  "kernelspec": {
   "display_name": "Python 3",
   "language": "python",
   "name": "python3"
  },
  "language_info": {
   "codemirror_mode": {
    "name": "ipython",
    "version": 3
   },
   "file_extension": ".py",
   "mimetype": "text/x-python",
   "name": "python",
   "nbconvert_exporter": "python",
   "pygments_lexer": "ipython3",
   "version": "3.7.10"
  }
 },
 "nbformat": 4,
 "nbformat_minor": 5
}
